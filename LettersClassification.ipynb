{
  "nbformat": 4,
  "nbformat_minor": 0,
  "metadata": {
    "colab": {
      "name": "LettersClassification.ipynb",
      "provenance": [],
      "collapsed_sections": [],
      "authorship_tag": "ABX9TyP5s7wD/hXKcv/MvjimCx7U",
      "include_colab_link": true
    },
    "kernelspec": {
      "name": "python3",
      "display_name": "Python 3"
    },
    "language_info": {
      "name": "python"
    }
  },
  "cells": [
    {
      "cell_type": "markdown",
      "metadata": {
        "id": "view-in-github",
        "colab_type": "text"
      },
      "source": [
        "<a href=\"https://colab.research.google.com/github/Lidiia-Afanasieva/LettersClassification/blob/main/LettersClassification.ipynb\" target=\"_parent\"><img src=\"https://colab.research.google.com/assets/colab-badge.svg\" alt=\"Open In Colab\"/></a>"
      ]
    },
    {
      "cell_type": "code",
      "execution_count": 1,
      "metadata": {
        "id": "NkQ8v6Osrsez"
      },
      "outputs": [],
      "source": [
        "import ast\n",
        "import torch\n",
        "import numpy as np\n",
        "import matplotlib.pyplot as plt\n",
        "from random import randint as randint"
      ]
    },
    {
      "cell_type": "code",
      "source": [
        "from google.colab import drive\n",
        "drive.mount('/content/drive')"
      ],
      "metadata": {
        "id": "qKrtqQwi3-3W"
      },
      "execution_count": null,
      "outputs": []
    },
    {
      "cell_type": "code",
      "source": [
        "class Network(torch.nn.Module):\n",
        "    def __init__(self, hidden_neurons):\n",
        "        super(Network, self).__init__()\n",
        "        self.fc1 = torch.nn.Linear(35, hidden_neurons)\n",
        "        self.act1 = torch.nn.Sigmoid()\n",
        "        self.fc2 = torch.nn.Linear(hidden_neurons, Np)\n",
        "\n",
        "    # определяет, каким образом данные проходят по сети\n",
        "    def forward(self, x):\n",
        "        x = self.fc1(x)\n",
        "        x = self.act1(x)\n",
        "        x = self.fc2(x)\n",
        "        return x"
      ],
      "metadata": {
        "id": "q-5b5FRuvuek"
      },
      "execution_count": 2,
      "outputs": []
    },
    {
      "cell_type": "code",
      "source": [
        "def loss(pred, target):\n",
        "    ans = (pred - target)**2\n",
        "    return ans.mean()"
      ],
      "metadata": {
        "id": "H5QuJbQS1mPR"
      },
      "execution_count": 3,
      "outputs": []
    },
    {
      "cell_type": "code",
      "source": [
        "def make_noise(inp):\n",
        "    num_point = 5\n",
        "    for i in range(len(inp)):\n",
        "        for j in range(num_point):\n",
        "            rand = randint(0, 34)\n",
        "            ns = inp[i][rand]\n",
        "            if int(ns) == 1:\n",
        "                inp[i][rand] = 0.\n",
        "            else: inp[i][rand] = 1.\n",
        "    return inp\n"
      ],
      "metadata": {
        "id": "3JB4mOOeZyFC"
      },
      "execution_count": 10,
      "outputs": []
    },
    {
      "cell_type": "markdown",
      "source": [
        "# **Без шумов**"
      ],
      "metadata": {
        "id": "tO5Druf4cu60"
      }
    },
    {
      "cell_type": "code",
      "source": [
        "text = open('prprob0.txt', 'r')\n",
        "data = np.array([ast.literal_eval(line.strip(',\\n')) for line in text if line.strip()])\n",
        "data = data.astype(np.float32)\n",
        "data = data.reshape(26, 35)\n",
        "\n",
        "Nv = 6\n",
        "Np = 10\n",
        "inp = torch.from_numpy(data[Nv:Nv+Np, :])\n",
        "out = torch.from_numpy(np.eye(Np))"
      ],
      "metadata": {
        "id": "t37lWbYpvuhL"
      },
      "execution_count": 20,
      "outputs": []
    },
    {
      "cell_type": "code",
      "source": [
        "our_network = Network(10)\n",
        "optimizer = torch.optim.Adam(our_network.parameters(), 0.01)"
      ],
      "metadata": {
        "id": "vxEWN9ljvuXe"
      },
      "execution_count": 21,
      "outputs": []
    },
    {
      "cell_type": "code",
      "source": [
        "for i in range(200):\n",
        "    optimizer.zero_grad()\n",
        "    y_pred = our_network.forward(inp)\n",
        "    loss_val = loss(y_pred, out)\n",
        "    loss_val.backward()\n",
        "    optimizer.step()\n",
        "    if(i%20 == 0):\n",
        "        y_pred = our_network.forward(inp)\n",
        "        print((((y_pred - out)**2).mean())**0.5)"
      ],
      "metadata": {
        "colab": {
          "base_uri": "https://localhost:8080/"
        },
        "id": "Rebb78BevuU0",
        "outputId": "f61c8301-1608-4db9-899b-7b3d519202b2"
      },
      "execution_count": 22,
      "outputs": [
        {
          "output_type": "stream",
          "name": "stdout",
          "text": [
            "tensor(0.3893, dtype=torch.float64, grad_fn=<PowBackward0>)\n",
            "tensor(0.2632, dtype=torch.float64, grad_fn=<PowBackward0>)\n",
            "tensor(0.2201, dtype=torch.float64, grad_fn=<PowBackward0>)\n",
            "tensor(0.1814, dtype=torch.float64, grad_fn=<PowBackward0>)\n",
            "tensor(0.1538, dtype=torch.float64, grad_fn=<PowBackward0>)\n",
            "tensor(0.1309, dtype=torch.float64, grad_fn=<PowBackward0>)\n",
            "tensor(0.1065, dtype=torch.float64, grad_fn=<PowBackward0>)\n",
            "tensor(0.0824, dtype=torch.float64, grad_fn=<PowBackward0>)\n",
            "tensor(0.0608, dtype=torch.float64, grad_fn=<PowBackward0>)\n",
            "tensor(0.0424, dtype=torch.float64, grad_fn=<PowBackward0>)\n"
          ]
        }
      ]
    },
    {
      "cell_type": "code",
      "source": [
        "out_nn = our_network.forward(inp)\n",
        "out_nn = out_nn.detach().numpy()\n",
        "\n",
        "plt.clf()\n",
        "plt.imshow(out_nn, cmap='Reds', clim=(-2,2))"
      ],
      "metadata": {
        "colab": {
          "base_uri": "https://localhost:8080/",
          "height": 283
        },
        "id": "ztoFHVZF3Dq0",
        "outputId": "de3f190c-b0dc-4238-9a5b-13ce71dd855e"
      },
      "execution_count": 23,
      "outputs": [
        {
          "output_type": "execute_result",
          "data": {
            "text/plain": [
              "<matplotlib.image.AxesImage at 0x7f52494a1c50>"
            ]
          },
          "metadata": {},
          "execution_count": 23
        },
        {
          "output_type": "display_data",
          "data": {
            "text/plain": [
              "<Figure size 432x288 with 1 Axes>"
            ],
            "image/png": "[encoded data removed]"
          },
          "metadata": {
            "needs_background": "light"
          }
        }
      ]
    },
    {
      "cell_type": "markdown",
      "source": [
        "# **Проверка работы НС на зашумленных данных**"
      ],
      "metadata": {
        "id": "lsYtS6H-c6qX"
      }
    },
    {
      "cell_type": "code",
      "source": [
        "data = data.astype(np.float32)\n",
        "data = data.reshape(26, 35)\n",
        "\n",
        "Nv = 6\n",
        "Np = 10\n",
        "inp_noise = data[Nv:Nv+Np, :]\n",
        "inp_noise = make_noise(inp_noise)\n",
        "inp_noise = torch.from_numpy(inp_noise)\n",
        "out_noise = torch.from_numpy(np.eye(Np))"
      ],
      "metadata": {
        "id": "j6700G4pdFYb"
      },
      "execution_count": 30,
      "outputs": []
    },
    {
      "cell_type": "code",
      "source": [
        "out_nn_noise = our_network.forward(inp_noise)\n",
        "out_nn_noise = out_nn_noise.detach().numpy()\n",
        "\n",
        "plt.clf()\n",
        "plt.imshow(out_nn_noise, cmap='Blues', clim=(-2,2))"
      ],
      "metadata": {
        "colab": {
          "base_uri": "https://localhost:8080/",
          "height": 283
        },
        "outputId": "18fda61a-e2f5-4a15-e2ab-23b035256b1b",
        "id": "0gzKY2tDgybp"
      },
      "execution_count": 31,
      "outputs": [
        {
          "output_type": "execute_result",
          "data": {
            "text/plain": [
              "<matplotlib.image.AxesImage at 0x7f524936b390>"
            ]
          },
          "metadata": {},
          "execution_count": 31
        },
        {
          "output_type": "display_data",
          "data": {
            "text/plain": [
              "<Figure size 432x288 with 1 Axes>"
            ],
            "image/png": "[encoded data removed]"
          },
          "metadata": {
            "needs_background": "light"
          }
        }
      ]
    },
    {
      "cell_type": "markdown",
      "source": [
        "# **НС обученная на зашумленных данных**"
      ],
      "metadata": {
        "id": "hhYx5Lr8XWWf"
      }
    },
    {
      "cell_type": "code",
      "source": [
        "text = open('prprob0.txt', 'r')\n",
        "data = np.array([ast.literal_eval(line.strip(',\\n')) for line in text if line.strip()])\n",
        "data = data.astype(np.float32)\n",
        "data = data.reshape(26, 35)\n",
        "\n",
        "Nv = 6\n",
        "Np = 10\n",
        "inp_noise = data[Nv:Nv+Np, :]\n",
        "inp_noise = make_noise(inp_noise)\n",
        "inp_noise = torch.from_numpy(inp_noise)\n",
        "out_noise = torch.from_numpy(np.eye(Np))"
      ],
      "metadata": {
        "id": "5Jjjoq6DXVxw"
      },
      "execution_count": 11,
      "outputs": []
    },
    {
      "cell_type": "code",
      "source": [
        "our_network_noise = Network(10)\n",
        "optimizer_noise = torch.optim.Adam(our_network_noise.parameters(), 0.01)"
      ],
      "metadata": {
        "id": "oU4SV9nbX9JN"
      },
      "execution_count": 12,
      "outputs": []
    },
    {
      "cell_type": "code",
      "source": [
        "for i in range(200):\n",
        "    optimizer_noise.zero_grad()\n",
        "    y_pred = our_network_noise.forward(inp_noise)\n",
        "    loss_val = loss(y_pred, out_noise)\n",
        "    loss_val.backward()\n",
        "    optimizer_noise.step()\n",
        "    if(i%20 == 0):\n",
        "        y_pred = our_network_noise.forward(inp_noise)\n",
        "        print((((y_pred - out_noise)**2).mean())**0.5)"
      ],
      "metadata": {
        "id": "_cZXgEQBX9JO"
      },
      "execution_count": null,
      "outputs": []
    },
    {
      "cell_type": "code",
      "source": [
        "out_nn_noise = our_network_noise.forward(inp_noise)\n",
        "out_nn_noise = out_nn_noise.detach().numpy()\n",
        "\n",
        "plt.clf()\n",
        "plt.imshow(out_nn_noise, cmap='Blues', clim=(-2,2))"
      ],
      "metadata": {
        "colab": {
          "base_uri": "https://localhost:8080/",
          "height": 283
        },
        "outputId": "7bb658c2-798b-47a4-e90c-bb749b808fa7",
        "id": "cSdV8jbDX9JO"
      },
      "execution_count": 14,
      "outputs": [
        {
          "output_type": "execute_result",
          "data": {
            "text/plain": [
              "<matplotlib.image.AxesImage at 0x7f2f4e70e1d0>"
            ]
          },
          "metadata": {},
          "execution_count": 14
        },
        {
          "output_type": "display_data",
          "data": {
            "text/plain": [
              "<Figure size 432x288 with 1 Axes>"
            ],
            "image/png": "[encoded data removed]"
          },
          "metadata": {
            "needs_background": "light"
          }
        }
      ]
    }
  ]
}